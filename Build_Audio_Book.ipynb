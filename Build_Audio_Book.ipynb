{
  "nbformat": 4,
  "nbformat_minor": 0,
  "metadata": {
    "colab": {
      "provenance": []
    },
    "kernelspec": {
      "name": "python3",
      "display_name": "Python 3"
    },
    "language_info": {
      "name": "python"
    },
    "accelerator": "GPU",
    "gpuClass": "standard"
  },
  "cells": [
    {
      "cell_type": "markdown",
      "source": [
        "# Build Audio Book With Python"
      ],
      "metadata": {
        "id": "y3ne6nqswXpI"
      }
    },
    {
      "cell_type": "markdown",
      "source": [
        "Author: [Zoumana Keita](https://www.youtube.com/@zoumdatascience)"
      ],
      "metadata": {
        "id": "IeQeW8OhiV1p"
      }
    },
    {
      "cell_type": "code",
      "execution_count": 30,
      "metadata": {
        "colab": {
          "base_uri": "https://localhost:8080/"
        },
        "id": "fkdVixCyKUvF",
        "outputId": "642a1a59-5ad6-401b-bd50-6eab596f9441"
      },
      "outputs": [
        {
          "output_type": "stream",
          "name": "stdout",
          "text": [
            "Looking in indexes: https://pypi.org/simple, https://us-python.pkg.dev/colab-wheels/public/simple/\n",
            "Requirement already satisfied: TTS in /usr/local/lib/python3.8/dist-packages (0.10.0)\n",
            "Requirement already satisfied: numpy==1.21.6 in /usr/local/lib/python3.8/dist-packages (from TTS) (1.21.6)\n",
            "Requirement already satisfied: g2pkk>=0.1.1 in /usr/local/lib/python3.8/dist-packages (from TTS) (0.1.2)\n",
            "Requirement already satisfied: torch>=1.7 in /usr/local/lib/python3.8/dist-packages (from TTS) (1.13.0+cu116)\n",
            "Requirement already satisfied: cython==0.29.28 in /usr/local/lib/python3.8/dist-packages (from TTS) (0.29.28)\n",
            "Requirement already satisfied: nltk in /usr/local/lib/python3.8/dist-packages (from TTS) (3.7)\n",
            "Requirement already satisfied: inflect==5.6.0 in /usr/local/lib/python3.8/dist-packages (from TTS) (5.6.0)\n",
            "Requirement already satisfied: pysbd in /usr/local/lib/python3.8/dist-packages (from TTS) (0.3.4)\n",
            "Requirement already satisfied: flask in /usr/local/lib/python3.8/dist-packages (from TTS) (1.1.4)\n",
            "Requirement already satisfied: pypinyin in /usr/local/lib/python3.8/dist-packages (from TTS) (0.47.1)\n",
            "Requirement already satisfied: soundfile in /usr/local/lib/python3.8/dist-packages (from TTS) (0.11.0)\n",
            "Requirement already satisfied: pandas in /usr/local/lib/python3.8/dist-packages (from TTS) (1.3.5)\n",
            "Requirement already satisfied: jamo in /usr/local/lib/python3.8/dist-packages (from TTS) (0.4.1)\n",
            "Requirement already satisfied: gruut[de]==2.2.3 in /usr/local/lib/python3.8/dist-packages (from TTS) (2.2.3)\n",
            "Requirement already satisfied: jieba in /usr/local/lib/python3.8/dist-packages (from TTS) (0.42.1)\n",
            "Requirement already satisfied: trainer in /usr/local/lib/python3.8/dist-packages (from TTS) (0.0.19)\n",
            "Requirement already satisfied: tqdm in /usr/local/lib/python3.8/dist-packages (from TTS) (4.64.1)\n",
            "Requirement already satisfied: pyyaml in /usr/local/lib/python3.8/dist-packages (from TTS) (6.0)\n",
            "Requirement already satisfied: coqpit>=0.0.16 in /usr/local/lib/python3.8/dist-packages (from TTS) (0.0.17)\n",
            "Requirement already satisfied: fsspec>=2021.04.0 in /usr/local/lib/python3.8/dist-packages (from TTS) (2022.11.0)\n",
            "Requirement already satisfied: unidic-lite==1.0.8 in /usr/local/lib/python3.8/dist-packages (from TTS) (1.0.8)\n",
            "Requirement already satisfied: numba==0.55.1 in /usr/local/lib/python3.8/dist-packages (from TTS) (0.55.1)\n",
            "Requirement already satisfied: torchaudio in /usr/local/lib/python3.8/dist-packages (from TTS) (0.13.0+cu116)\n",
            "Requirement already satisfied: anyascii in /usr/local/lib/python3.8/dist-packages (from TTS) (0.3.1)\n",
            "Requirement already satisfied: scipy>=1.4.0 in /usr/local/lib/python3.8/dist-packages (from TTS) (1.7.3)\n",
            "Requirement already satisfied: librosa==0.8.0 in /usr/local/lib/python3.8/dist-packages (from TTS) (0.8.0)\n",
            "Requirement already satisfied: mecab-python3==1.0.5 in /usr/local/lib/python3.8/dist-packages (from TTS) (1.0.5)\n",
            "Requirement already satisfied: umap-learn==0.5.1 in /usr/local/lib/python3.8/dist-packages (from TTS) (0.5.1)\n",
            "Requirement already satisfied: matplotlib in /usr/local/lib/python3.8/dist-packages (from TTS) (3.2.2)\n",
            "Requirement already satisfied: importlib-resources in /usr/local/lib/python3.8/dist-packages (from gruut[de]==2.2.3->TTS) (5.10.1)\n",
            "Requirement already satisfied: Babel<3.0.0,>=2.8.0 in /usr/local/lib/python3.8/dist-packages (from gruut[de]==2.2.3->TTS) (2.11.0)\n",
            "Requirement already satisfied: dateparser~=1.1.0 in /usr/local/lib/python3.8/dist-packages (from gruut[de]==2.2.3->TTS) (1.1.4)\n",
            "Requirement already satisfied: num2words<1.0.0,>=0.5.10 in /usr/local/lib/python3.8/dist-packages (from gruut[de]==2.2.3->TTS) (0.5.12)\n",
            "Requirement already satisfied: networkx<3.0.0,>=2.5.0 in /usr/local/lib/python3.8/dist-packages (from gruut[de]==2.2.3->TTS) (2.8.8)\n",
            "Requirement already satisfied: jsonlines~=1.2.0 in /usr/local/lib/python3.8/dist-packages (from gruut[de]==2.2.3->TTS) (1.2.0)\n",
            "Requirement already satisfied: gruut-ipa<1.0,>=0.12.0 in /usr/local/lib/python3.8/dist-packages (from gruut[de]==2.2.3->TTS) (0.13.0)\n",
            "Requirement already satisfied: python-crfsuite~=0.9.7 in /usr/local/lib/python3.8/dist-packages (from gruut[de]==2.2.3->TTS) (0.9.8)\n",
            "Requirement already satisfied: gruut-lang-en~=2.0.0 in /usr/local/lib/python3.8/dist-packages (from gruut[de]==2.2.3->TTS) (2.0.0)\n",
            "Requirement already satisfied: gruut-lang-de~=2.0.0 in /usr/local/lib/python3.8/dist-packages (from gruut[de]==2.2.3->TTS) (2.0.0)\n",
            "Requirement already satisfied: joblib>=0.14 in /usr/local/lib/python3.8/dist-packages (from librosa==0.8.0->TTS) (1.2.0)\n",
            "Requirement already satisfied: scikit-learn!=0.19.0,>=0.14.0 in /usr/local/lib/python3.8/dist-packages (from librosa==0.8.0->TTS) (1.0.2)\n",
            "Requirement already satisfied: decorator>=3.0.0 in /usr/local/lib/python3.8/dist-packages (from librosa==0.8.0->TTS) (4.4.2)\n",
            "Requirement already satisfied: resampy>=0.2.2 in /usr/local/lib/python3.8/dist-packages (from librosa==0.8.0->TTS) (0.4.2)\n",
            "Requirement already satisfied: audioread>=2.0.0 in /usr/local/lib/python3.8/dist-packages (from librosa==0.8.0->TTS) (3.0.0)\n",
            "Requirement already satisfied: pooch>=1.0 in /usr/local/lib/python3.8/dist-packages (from librosa==0.8.0->TTS) (1.6.0)\n",
            "Requirement already satisfied: llvmlite<0.39,>=0.38.0rc1 in /usr/local/lib/python3.8/dist-packages (from numba==0.55.1->TTS) (0.38.1)\n",
            "Requirement already satisfied: setuptools in /usr/local/lib/python3.8/dist-packages (from numba==0.55.1->TTS) (57.4.0)\n",
            "Requirement already satisfied: pynndescent>=0.5 in /usr/local/lib/python3.8/dist-packages (from umap-learn==0.5.1->TTS) (0.5.8)\n",
            "Requirement already satisfied: pytz>=2015.7 in /usr/local/lib/python3.8/dist-packages (from Babel<3.0.0,>=2.8.0->gruut[de]==2.2.3->TTS) (2022.6)\n",
            "Requirement already satisfied: regex!=2019.02.19,!=2021.8.27 in /usr/local/lib/python3.8/dist-packages (from dateparser~=1.1.0->gruut[de]==2.2.3->TTS) (2022.6.2)\n",
            "Requirement already satisfied: tzlocal in /usr/local/lib/python3.8/dist-packages (from dateparser~=1.1.0->gruut[de]==2.2.3->TTS) (1.5.1)\n",
            "Requirement already satisfied: python-dateutil in /usr/local/lib/python3.8/dist-packages (from dateparser~=1.1.0->gruut[de]==2.2.3->TTS) (2.8.2)\n",
            "Requirement already satisfied: six in /usr/local/lib/python3.8/dist-packages (from jsonlines~=1.2.0->gruut[de]==2.2.3->TTS) (1.15.0)\n",
            "Requirement already satisfied: docopt>=0.6.2 in /usr/local/lib/python3.8/dist-packages (from num2words<1.0.0,>=0.5.10->gruut[de]==2.2.3->TTS) (0.6.2)\n",
            "Requirement already satisfied: packaging>=20.0 in /usr/local/lib/python3.8/dist-packages (from pooch>=1.0->librosa==0.8.0->TTS) (21.3)\n",
            "Requirement already satisfied: requests>=2.19.0 in /usr/local/lib/python3.8/dist-packages (from pooch>=1.0->librosa==0.8.0->TTS) (2.23.0)\n",
            "Requirement already satisfied: appdirs>=1.3.0 in /usr/local/lib/python3.8/dist-packages (from pooch>=1.0->librosa==0.8.0->TTS) (1.4.4)\n",
            "Requirement already satisfied: pyparsing!=3.0.5,>=2.0.2 in /usr/local/lib/python3.8/dist-packages (from packaging>=20.0->pooch>=1.0->librosa==0.8.0->TTS) (3.0.9)\n",
            "Requirement already satisfied: chardet<4,>=3.0.2 in /usr/local/lib/python3.8/dist-packages (from requests>=2.19.0->pooch>=1.0->librosa==0.8.0->TTS) (3.0.4)\n",
            "Requirement already satisfied: urllib3!=1.25.0,!=1.25.1,<1.26,>=1.21.1 in /usr/local/lib/python3.8/dist-packages (from requests>=2.19.0->pooch>=1.0->librosa==0.8.0->TTS) (1.24.3)\n",
            "Requirement already satisfied: idna<3,>=2.5 in /usr/local/lib/python3.8/dist-packages (from requests>=2.19.0->pooch>=1.0->librosa==0.8.0->TTS) (2.10)\n",
            "Requirement already satisfied: certifi>=2017.4.17 in /usr/local/lib/python3.8/dist-packages (from requests>=2.19.0->pooch>=1.0->librosa==0.8.0->TTS) (2022.12.7)\n",
            "Requirement already satisfied: threadpoolctl>=2.0.0 in /usr/local/lib/python3.8/dist-packages (from scikit-learn!=0.19.0,>=0.14.0->librosa==0.8.0->TTS) (3.1.0)\n",
            "Requirement already satisfied: cffi>=1.0 in /usr/local/lib/python3.8/dist-packages (from soundfile->TTS) (1.15.1)\n",
            "Requirement already satisfied: pycparser in /usr/local/lib/python3.8/dist-packages (from cffi>=1.0->soundfile->TTS) (2.21)\n",
            "Requirement already satisfied: typing-extensions in /usr/local/lib/python3.8/dist-packages (from torch>=1.7->TTS) (4.4.0)\n",
            "Requirement already satisfied: Werkzeug<2.0,>=0.15 in /usr/local/lib/python3.8/dist-packages (from flask->TTS) (1.0.1)\n",
            "Requirement already satisfied: Jinja2<3.0,>=2.10.1 in /usr/local/lib/python3.8/dist-packages (from flask->TTS) (2.11.3)\n",
            "Requirement already satisfied: itsdangerous<2.0,>=0.24 in /usr/local/lib/python3.8/dist-packages (from flask->TTS) (1.1.0)\n",
            "Requirement already satisfied: click<8.0,>=5.1 in /usr/local/lib/python3.8/dist-packages (from flask->TTS) (7.1.2)\n",
            "Requirement already satisfied: MarkupSafe>=0.23 in /usr/local/lib/python3.8/dist-packages (from Jinja2<3.0,>=2.10.1->flask->TTS) (2.0.1)\n",
            "Requirement already satisfied: zipp>=3.1.0 in /usr/local/lib/python3.8/dist-packages (from importlib-resources->gruut[de]==2.2.3->TTS) (3.11.0)\n",
            "Requirement already satisfied: cycler>=0.10 in /usr/local/lib/python3.8/dist-packages (from matplotlib->TTS) (0.11.0)\n",
            "Requirement already satisfied: kiwisolver>=1.0.1 in /usr/local/lib/python3.8/dist-packages (from matplotlib->TTS) (1.4.4)\n",
            "Requirement already satisfied: psutil in /usr/local/lib/python3.8/dist-packages (from trainer->TTS) (5.4.8)\n",
            "Requirement already satisfied: protobuf<3.20,>=3.9.2 in /usr/local/lib/python3.8/dist-packages (from trainer->TTS) (3.19.6)\n",
            "Requirement already satisfied: tensorboardX in /usr/local/lib/python3.8/dist-packages (from trainer->TTS) (2.5.1)\n",
            "Looking in indexes: https://pypi.org/simple, https://us-python.pkg.dev/colab-wheels/public/simple/\n",
            "Requirement already satisfied: PyPDF2 in /usr/local/lib/python3.8/dist-packages (2.12.1)\n",
            "Requirement already satisfied: typing_extensions>=3.10.0.0 in /usr/local/lib/python3.8/dist-packages (from PyPDF2) (4.4.0)\n"
          ]
        }
      ],
      "source": [
        "%%bash\n",
        "pip3 install TTS\n",
        "pip3 install PyPDF2"
      ]
    },
    {
      "cell_type": "code",
      "source": [
        "import os\n",
        "from TTS.api import TTS\n",
        "from PyPDF2 import PdfReader"
      ],
      "metadata": {
        "id": "2O5p2ZSTKXaG"
      },
      "execution_count": 12,
      "outputs": []
    },
    {
      "cell_type": "code",
      "source": [
        "multi_lang_model = TTS.list_models()[0]\n",
        "multi_lang_model"
      ],
      "metadata": {
        "colab": {
          "base_uri": "https://localhost:8080/",
          "height": 35
        },
        "id": "GrKqmFHGmNu0",
        "outputId": "d763f288-650b-486b-ed6c-3cdbc1cb9fcf"
      },
      "execution_count": 32,
      "outputs": [
        {
          "output_type": "execute_result",
          "data": {
            "text/plain": [
              "'tts_models/multilingual/multi-dataset/your_tts'"
            ],
            "application/vnd.google.colaboratory.intrinsic+json": {
              "type": "string"
            }
          },
          "metadata": {},
          "execution_count": 32
        }
      ]
    },
    {
      "cell_type": "code",
      "source": [
        "english_doc = \"books/short_history_en.pdf\"\n",
        "reader = PdfReader(english_doc)\n",
        "\n",
        "number_of_pages = len(reader.pages)\n",
        "print(number_of_pages)"
      ],
      "metadata": {
        "colab": {
          "base_uri": "https://localhost:8080/"
        },
        "id": "SOg-M6w8vnci",
        "outputId": "d86fca99-99ff-4ed2-85cd-13b7627eaf91"
      },
      "execution_count": 33,
      "outputs": [
        {
          "output_type": "stream",
          "name": "stdout",
          "text": [
            "76\n"
          ]
        }
      ]
    },
    {
      "cell_type": "code",
      "source": [
        "page = reader.pages[5]\n",
        "english_sample = page.extract_text()\n",
        "print(english_sample)"
      ],
      "metadata": {
        "colab": {
          "base_uri": "https://localhost:8080/"
        },
        "id": "-5mbJEGIy6s3",
        "outputId": "c4abe9ac-c829-47d5-aa7a-aac47cd77899"
      },
      "execution_count": 34,
      "outputs": [
        {
          "output_type": "stream",
          "name": "stdout",
          "text": [
            "Chapter 3. North Africa until the 7th Century A.D. : \n",
            "Carthage : Rome : The Vandals : Byzantium.  \n",
            " \n",
            " \n",
            "North Africa in this history refers to what is now Morocco , Algeria, Tuni sia and Libya. \n",
            "In Roman times Mauretania (the land of th e Mauri - or Moors) coincided roughly with \n",
            "modern Morocco. It is not to be confused with present day Mauritania; which is \n",
            "further south. And the Roman name for part of what is now Tunisia and Algeria was \n",
            "Numidia. Western Libya was (and still is) called Tripolitania, and eastern Libya \n",
            "Cyrenaica.   \n",
            "The Berbers of North Africa in ancient ti mes were largely noma dic, and never united \n",
            "into a single state. There we re also many traders, engagi ng particularly in the trans-\n",
            "Saharan trade with the peoples of the Sudan. The traders settled in towns, which \n",
            "often developed into kingdoms.  \n",
            " \n",
            "During the second millenium B.C. Libyan chiefs periodically raided Egypt. Then, \n",
            "during the time of Egypt's weakness after the power of the Pharaohs collapsed in the \n",
            "11th century B.C, Libyan mercenaries in th e Egyptian army established the Libyan \n",
            "Dynasty in Egypt, about 950 B.C. The dynast y lasted for two centuries (followed by a \n",
            "further period of confusio n in Egypt and its conquest by the Kushites).  \n",
            " \n",
            "In the 7th century, B.C. the Greeks colonised Cyrenaica, building the city of Cyrene, \n",
            "which became famous for its intellectual life, notably its schools of philosophy and \n",
            "medicine. The Greeks continued to rule ther e until the Persians conquered Egypt and  \n",
            "Cyrenaica towards the end of the 6th centur y. In the 330s B.C. the Persian Empire \n",
            "was destroyed by Alexander the Great; and on the division of Alexander's empire \n",
            "after his death Egypt and Cyrenaica passed to the Greek Ptolemies.  \n",
            " \n",
            "Meanwhile in Tunisia the sea trading Semitic Phoenicians from Tyre (in Lebanon) had \n",
            "founded the colony of Carthage about 800 B.C.  near the present day city of Tunis. By \n",
            "the 5th century Carthage had become the capital of a huge trading empire on the \n",
            "coasts and islands of the western and cent ral Mediterranean, in places, particularly \n",
            "Sicily, rivalled by Greek colonies.  \n",
            " \n",
            "In Africa, Carthaginian trad ing ports extended all along the coast from Tunisia to \n",
            "Morocco, and their ships went through the St raits of Gibraltar and down the Atlantic \n",
            "coast in search of trade. (They also went as  far as Britain, where they traded for tin \n",
            "from the Cornish mines.) They founded se ttlements on the west African coast in \n",
            "Senegal and Guinea. They also took part ill the trans-Saharan trade.  \n",
            " \n",
            "By the 3rd century B.C. Carthage - a repu blic ruled by an aristocracy based on \n",
            "wealth - came into conflict with the rising  power of Rome, which had taken over from \n",
            "the Greek colonies as Carthage's main rival in the central Mediterranean. Two long \n",
            "wars between Rome and Carthage ensued , from 264 to 241 B.C. and 219 to 201 \n",
            "(known as the Punic Wars).   \n",
            "The result of the first war was the cession of  Sicily to Rome. There was then a period \n",
            "of uneasy peace. Carthage ha d to deal with a revolt of her African mercenaries, who \n",
            "formed the bulk of the rank and file of her armies and had not been paid. Rome took \n",
            "advantage of this to seize Corsica and Sa rdinia. Then the Carthaginian Hamilcar \n"
          ]
        }
      ]
    },
    {
      "cell_type": "code",
      "source": [
        "# Init TTS\n",
        "tts = TTS(multi_lang_model)\n",
        "print(tts.languages)"
      ],
      "metadata": {
        "colab": {
          "base_uri": "https://localhost:8080/"
        },
        "id": "PFvMdi1QzGz-",
        "outputId": "f03ac650-723f-42a1-cb37-a48401770571"
      },
      "execution_count": 35,
      "outputs": [
        {
          "output_type": "stream",
          "name": "stdout",
          "text": [
            " > tts_models/multilingual/multi-dataset/your_tts is already downloaded.\n",
            " > Using model: vits\n",
            " > Setting up Audio Processor...\n",
            " | > sample_rate:16000\n",
            " | > resample:False\n",
            " | > num_mels:80\n",
            " | > log_func:np.log10\n",
            " | > min_level_db:0\n",
            " | > frame_shift_ms:None\n",
            " | > frame_length_ms:None\n",
            " | > ref_level_db:None\n",
            " | > fft_size:1024\n",
            " | > power:None\n",
            " | > preemphasis:0.0\n",
            " | > griffin_lim_iters:None\n",
            " | > signal_norm:None\n",
            " | > symmetric_norm:None\n",
            " | > mel_fmin:0\n",
            " | > mel_fmax:None\n",
            " | > pitch_fmin:None\n",
            " | > pitch_fmax:None\n",
            " | > spec_gain:20.0\n",
            " | > stft_pad_mode:reflect\n",
            " | > max_norm:1.0\n",
            " | > clip_norm:True\n",
            " | > do_trim_silence:False\n",
            " | > trim_db:60\n",
            " | > do_sound_norm:False\n",
            " | > do_amp_to_db_linear:True\n",
            " | > do_amp_to_db_mel:True\n",
            " | > do_rms_norm:False\n",
            " | > db_level:None\n",
            " | > stats_path:None\n",
            " | > base:10\n",
            " | > hop_length:256\n",
            " | > win_length:1024\n",
            " > Model fully restored. \n",
            " > Setting up Audio Processor...\n",
            " | > sample_rate:16000\n",
            " | > resample:False\n",
            " | > num_mels:64\n",
            " | > log_func:np.log10\n",
            " | > min_level_db:-100\n",
            " | > frame_shift_ms:None\n",
            " | > frame_length_ms:None\n",
            " | > ref_level_db:20\n",
            " | > fft_size:512\n",
            " | > power:1.5\n",
            " | > preemphasis:0.97\n",
            " | > griffin_lim_iters:60\n",
            " | > signal_norm:False\n",
            " | > symmetric_norm:False\n",
            " | > mel_fmin:0\n",
            " | > mel_fmax:8000.0\n",
            " | > pitch_fmin:1.0\n",
            " | > pitch_fmax:640.0\n",
            " | > spec_gain:20.0\n",
            " | > stft_pad_mode:reflect\n",
            " | > max_norm:4.0\n",
            " | > clip_norm:False\n",
            " | > do_trim_silence:False\n",
            " | > trim_db:60\n",
            " | > do_sound_norm:False\n",
            " | > do_amp_to_db_linear:True\n",
            " | > do_amp_to_db_mel:True\n",
            " | > do_rms_norm:True\n",
            " | > db_level:-27.0\n",
            " | > stats_path:None\n",
            " | > base:10\n",
            " | > hop_length:160\n",
            " | > win_length:400\n",
            " > External Speaker Encoder Loaded !!\n",
            " > initialization of language-embedding layers.\n",
            " > Model fully restored. \n",
            " > Setting up Audio Processor...\n",
            " | > sample_rate:16000\n",
            " | > resample:False\n",
            " | > num_mels:64\n",
            " | > log_func:np.log10\n",
            " | > min_level_db:-100\n",
            " | > frame_shift_ms:None\n",
            " | > frame_length_ms:None\n",
            " | > ref_level_db:20\n",
            " | > fft_size:512\n",
            " | > power:1.5\n",
            " | > preemphasis:0.97\n",
            " | > griffin_lim_iters:60\n",
            " | > signal_norm:False\n",
            " | > symmetric_norm:False\n",
            " | > mel_fmin:0\n",
            " | > mel_fmax:8000.0\n",
            " | > pitch_fmin:1.0\n",
            " | > pitch_fmax:640.0\n",
            " | > spec_gain:20.0\n",
            " | > stft_pad_mode:reflect\n",
            " | > max_norm:4.0\n",
            " | > clip_norm:False\n",
            " | > do_trim_silence:False\n",
            " | > trim_db:60\n",
            " | > do_sound_norm:False\n",
            " | > do_amp_to_db_linear:True\n",
            " | > do_amp_to_db_mel:True\n",
            " | > do_rms_norm:True\n",
            " | > db_level:-27.0\n",
            " | > stats_path:None\n",
            " | > base:10\n",
            " | > hop_length:160\n",
            " | > win_length:400\n",
            "['en', 'fr-fr', 'pt-br']\n"
          ]
        }
      ]
    },
    {
      "cell_type": "code",
      "source": [
        "tts.tts_to_file(text=english_sample, speaker=tts.speakers[0], language=tts.languages[0], file_path=\"english_version.mp3\")"
      ],
      "metadata": {
        "colab": {
          "base_uri": "https://localhost:8080/"
        },
        "id": "xaZXWBVJzVKu",
        "outputId": "6ad1371f-13b3-4776-b4e3-f5bbb8a7a758"
      },
      "execution_count": 36,
      "outputs": [
        {
          "output_type": "stream",
          "name": "stdout",
          "text": [
            " > Text splitted to sentences.\n",
            "['Chapter 3.', 'North Africa until the 7th Century A.D. :', 'Carthage : Rome : The Vandals : Byzantium.', 'North Africa in this history refers to what is now Morocco , Algeria, Tuni sia and Libya.', 'In Roman times Mauretania (the land of th e Mauri - or Moors) coincided roughly with modern Morocco.', 'It is not to be confused with present day Mauritania; which is further south.', 'And the Roman name for part of what is now Tunisia and Algeria was', 'Numidia.', 'Western Libya was (and still is) called Tripolitania, and eastern Libya', 'Cyrenaica.', 'The Berbers of North Africa in ancient ti mes were largely noma dic, and never united into a single state.', 'There we re also many traders, engagi ng particularly in the trans-', 'Saharan trade with the peoples of the Sudan.', 'The traders settled in towns, which often developed into kingdoms.', 'During the second millenium B.C. Libyan chiefs periodically raided Egypt.', \"Then, during the time of Egypt's weakness after the power of the Pharaohs collapsed in the\", '11th century B.C, Libyan mercenaries in th e Egyptian army established the Libyan', 'Dynasty in Egypt, about 950 B.C. The dynast y lasted for two centuries (followed by a further period of confusio n in Egypt and its conquest by the Kushites).', 'In the 7th century, B.C. the Greeks colonised Cyrenaica, building the city of Cyrene, which became famous for its intellectual life, notably its schools of philosophy and medicine.', 'The Greeks continued to rule ther e until the Persians conquered Egypt and', 'Cyrenaica towards the end of the 6th centur y.', \"In the 330s B.C. the Persian Empire was destroyed by Alexander the Great; and on the division of Alexander's empire after his death Egypt and Cyrenaica passed to the Greek Ptolemies.\", 'Meanwhile in Tunisia the sea trading Semitic Phoenicians from Tyre (in Lebanon) had founded the colony of Carthage about 800 B.C.  near the present day city of Tunis.', 'By the 5th century Carthage had become the capital of a huge trading empire on the coasts and islands of the western and cent ral Mediterranean, in places, particularly', 'Sicily, rivalled by Greek colonies.', 'In Africa, Carthaginian trad ing ports extended all along the coast from Tunisia to', 'Morocco, and their ships went through the St raits of Gibraltar and down the Atlantic coast in search of trade.', '(They also went as  far as Britain, where they traded for tin from the Cornish mines.)', 'They founded se ttlements on the west African coast in', 'Senegal and Guinea.', 'They also took part ill the trans-Saharan trade.', \"By the 3rd century B.C. Carthage - a repu blic ruled by an aristocracy based on wealth - came into conflict with the rising  power of Rome, which had taken over from the Greek colonies as Carthage's main rival in the central Mediterranean.\", 'Two long wars between Rome and Carthage ensued , from 264 to 241 B.C. and 219 to 201 (known as the Punic Wars).', 'The result of the first war was the cession of  Sicily to Rome.', 'There was then a period of uneasy peace.', 'Carthage ha d to deal with a revolt of her African mercenaries, who formed the bulk of the rank and file of her armies and had not been paid.', 'Rome took advantage of this to seize Corsica and Sa rdinia.', 'Then the Carthaginian Hamilcar']\n",
            "['<BLNK>', 'c', '<BLNK>', 'h', '<BLNK>', 'a', '<BLNK>', 'p', '<BLNK>', 't', '<BLNK>', 'e', '<BLNK>', 'r', '<BLNK>', ' ', '<BLNK>', '3', '<BLNK>', '.', '<BLNK>']\n",
            " [!] Character '3' not found in the vocabulary. Discarding it.\n",
            "['<BLNK>', 'n', '<BLNK>', 'o', '<BLNK>', 'r', '<BLNK>', 't', '<BLNK>', 'h', '<BLNK>', ' ', '<BLNK>', 'a', '<BLNK>', 'f', '<BLNK>', 'r', '<BLNK>', 'i', '<BLNK>', 'c', '<BLNK>', 'a', '<BLNK>', ' ', '<BLNK>', 'u', '<BLNK>', 'n', '<BLNK>', 't', '<BLNK>', 'i', '<BLNK>', 'l', '<BLNK>', ' ', '<BLNK>', 't', '<BLNK>', 'h', '<BLNK>', 'e', '<BLNK>', ' ', '<BLNK>', '7', '<BLNK>', 't', '<BLNK>', 'h', '<BLNK>', ' ', '<BLNK>', 'c', '<BLNK>', 'e', '<BLNK>', 'n', '<BLNK>', 't', '<BLNK>', 'u', '<BLNK>', 'r', '<BLNK>', 'y', '<BLNK>', ' ', '<BLNK>', 'a', '<BLNK>', '.', '<BLNK>', 'd', '<BLNK>', '.', '<BLNK>', ' ', '<BLNK>', ',', '<BLNK>']\n",
            " [!] Character '7' not found in the vocabulary. Discarding it.\n",
            "['<BLNK>', '1', '<BLNK>', '1', '<BLNK>', 't', '<BLNK>', 'h', '<BLNK>', ' ', '<BLNK>', 'c', '<BLNK>', 'e', '<BLNK>', 'n', '<BLNK>', 't', '<BLNK>', 'u', '<BLNK>', 'r', '<BLNK>', 'y', '<BLNK>', ' ', '<BLNK>', 'b', '<BLNK>', '.', '<BLNK>', 'c', '<BLNK>', ',', '<BLNK>', ' ', '<BLNK>', 'l', '<BLNK>', 'i', '<BLNK>', 'b', '<BLNK>', 'y', '<BLNK>', 'a', '<BLNK>', 'n', '<BLNK>', ' ', '<BLNK>', 'm', '<BLNK>', 'e', '<BLNK>', 'r', '<BLNK>', 'c', '<BLNK>', 'e', '<BLNK>', 'n', '<BLNK>', 'a', '<BLNK>', 'r', '<BLNK>', 'i', '<BLNK>', 'e', '<BLNK>', 's', '<BLNK>', ' ', '<BLNK>', 'i', '<BLNK>', 'n', '<BLNK>', ' ', '<BLNK>', 't', '<BLNK>', 'h', '<BLNK>', ' ', '<BLNK>', 'e', '<BLNK>', ' ', '<BLNK>', 'e', '<BLNK>', 'g', '<BLNK>', 'y', '<BLNK>', 'p', '<BLNK>', 't', '<BLNK>', 'i', '<BLNK>', 'a', '<BLNK>', 'n', '<BLNK>', ' ', '<BLNK>', 'a', '<BLNK>', 'r', '<BLNK>', 'm', '<BLNK>', 'y', '<BLNK>', ' ', '<BLNK>', 'e', '<BLNK>', 's', '<BLNK>', 't', '<BLNK>', 'a', '<BLNK>', 'b', '<BLNK>', 'l', '<BLNK>', 'i', '<BLNK>', 's', '<BLNK>', 'h', '<BLNK>', 'e', '<BLNK>', 'd', '<BLNK>', ' ', '<BLNK>', 't', '<BLNK>', 'h', '<BLNK>', 'e', '<BLNK>', ' ', '<BLNK>', 'l', '<BLNK>', 'i', '<BLNK>', 'b', '<BLNK>', 'y', '<BLNK>', 'a', '<BLNK>', 'n', '<BLNK>']\n",
            " [!] Character '1' not found in the vocabulary. Discarding it.\n",
            "['<BLNK>', 'd', '<BLNK>', 'y', '<BLNK>', 'n', '<BLNK>', 'a', '<BLNK>', 's', '<BLNK>', 't', '<BLNK>', 'y', '<BLNK>', ' ', '<BLNK>', 'i', '<BLNK>', 'n', '<BLNK>', ' ', '<BLNK>', 'e', '<BLNK>', 'g', '<BLNK>', 'y', '<BLNK>', 'p', '<BLNK>', 't', '<BLNK>', ',', '<BLNK>', ' ', '<BLNK>', 'a', '<BLNK>', 'b', '<BLNK>', 'o', '<BLNK>', 'u', '<BLNK>', 't', '<BLNK>', ' ', '<BLNK>', '9', '<BLNK>', '5', '<BLNK>', '0', '<BLNK>', ' ', '<BLNK>', 'b', '<BLNK>', '.', '<BLNK>', 'c', '<BLNK>', '.', '<BLNK>', ' ', '<BLNK>', 't', '<BLNK>', 'h', '<BLNK>', 'e', '<BLNK>', ' ', '<BLNK>', 'd', '<BLNK>', 'y', '<BLNK>', 'n', '<BLNK>', 'a', '<BLNK>', 's', '<BLNK>', 't', '<BLNK>', ' ', '<BLNK>', 'y', '<BLNK>', ' ', '<BLNK>', 'l', '<BLNK>', 'a', '<BLNK>', 's', '<BLNK>', 't', '<BLNK>', 'e', '<BLNK>', 'd', '<BLNK>', ' ', '<BLNK>', 'f', '<BLNK>', 'o', '<BLNK>', 'r', '<BLNK>', ' ', '<BLNK>', 't', '<BLNK>', 'w', '<BLNK>', 'o', '<BLNK>', ' ', '<BLNK>', 'c', '<BLNK>', 'e', '<BLNK>', 'n', '<BLNK>', 't', '<BLNK>', 'u', '<BLNK>', 'r', '<BLNK>', 'i', '<BLNK>', 'e', '<BLNK>', 's', '<BLNK>', ' ', '<BLNK>', 'f', '<BLNK>', 'o', '<BLNK>', 'l', '<BLNK>', 'l', '<BLNK>', 'o', '<BLNK>', 'w', '<BLNK>', 'e', '<BLNK>', 'd', '<BLNK>', ' ', '<BLNK>', 'b', '<BLNK>', 'y', '<BLNK>', ' ', '<BLNK>', 'a', '<BLNK>', ' ', '<BLNK>', 'f', '<BLNK>', 'u', '<BLNK>', 'r', '<BLNK>', 't', '<BLNK>', 'h', '<BLNK>', 'e', '<BLNK>', 'r', '<BLNK>', ' ', '<BLNK>', 'p', '<BLNK>', 'e', '<BLNK>', 'r', '<BLNK>', 'i', '<BLNK>', 'o', '<BLNK>', 'd', '<BLNK>', ' ', '<BLNK>', 'o', '<BLNK>', 'f', '<BLNK>', ' ', '<BLNK>', 'c', '<BLNK>', 'o', '<BLNK>', 'n', '<BLNK>', 'f', '<BLNK>', 'u', '<BLNK>', 's', '<BLNK>', 'i', '<BLNK>', 'o', '<BLNK>', ' ', '<BLNK>', 'n', '<BLNK>', ' ', '<BLNK>', 'i', '<BLNK>', 'n', '<BLNK>', ' ', '<BLNK>', 'e', '<BLNK>', 'g', '<BLNK>', 'y', '<BLNK>', 'p', '<BLNK>', 't', '<BLNK>', ' ', '<BLNK>', 'a', '<BLNK>', 'n', '<BLNK>', 'd', '<BLNK>', ' ', '<BLNK>', 'i', '<BLNK>', 't', '<BLNK>', 's', '<BLNK>', ' ', '<BLNK>', 'c', '<BLNK>', 'o', '<BLNK>', 'n', '<BLNK>', 'q', '<BLNK>', 'u', '<BLNK>', 'e', '<BLNK>', 's', '<BLNK>', 't', '<BLNK>', ' ', '<BLNK>', 'b', '<BLNK>', 'y', '<BLNK>', ' ', '<BLNK>', 't', '<BLNK>', 'h', '<BLNK>', 'e', '<BLNK>', ' ', '<BLNK>', 'k', '<BLNK>', 'u', '<BLNK>', 's', '<BLNK>', 'h', '<BLNK>', 'i', '<BLNK>', 't', '<BLNK>', 'e', '<BLNK>', 's', '<BLNK>', '.', '<BLNK>']\n",
            " [!] Character '9' not found in the vocabulary. Discarding it.\n",
            "['<BLNK>', 'd', '<BLNK>', 'y', '<BLNK>', 'n', '<BLNK>', 'a', '<BLNK>', 's', '<BLNK>', 't', '<BLNK>', 'y', '<BLNK>', ' ', '<BLNK>', 'i', '<BLNK>', 'n', '<BLNK>', ' ', '<BLNK>', 'e', '<BLNK>', 'g', '<BLNK>', 'y', '<BLNK>', 'p', '<BLNK>', 't', '<BLNK>', ',', '<BLNK>', ' ', '<BLNK>', 'a', '<BLNK>', 'b', '<BLNK>', 'o', '<BLNK>', 'u', '<BLNK>', 't', '<BLNK>', ' ', '<BLNK>', '9', '<BLNK>', '5', '<BLNK>', '0', '<BLNK>', ' ', '<BLNK>', 'b', '<BLNK>', '.', '<BLNK>', 'c', '<BLNK>', '.', '<BLNK>', ' ', '<BLNK>', 't', '<BLNK>', 'h', '<BLNK>', 'e', '<BLNK>', ' ', '<BLNK>', 'd', '<BLNK>', 'y', '<BLNK>', 'n', '<BLNK>', 'a', '<BLNK>', 's', '<BLNK>', 't', '<BLNK>', ' ', '<BLNK>', 'y', '<BLNK>', ' ', '<BLNK>', 'l', '<BLNK>', 'a', '<BLNK>', 's', '<BLNK>', 't', '<BLNK>', 'e', '<BLNK>', 'd', '<BLNK>', ' ', '<BLNK>', 'f', '<BLNK>', 'o', '<BLNK>', 'r', '<BLNK>', ' ', '<BLNK>', 't', '<BLNK>', 'w', '<BLNK>', 'o', '<BLNK>', ' ', '<BLNK>', 'c', '<BLNK>', 'e', '<BLNK>', 'n', '<BLNK>', 't', '<BLNK>', 'u', '<BLNK>', 'r', '<BLNK>', 'i', '<BLNK>', 'e', '<BLNK>', 's', '<BLNK>', ' ', '<BLNK>', 'f', '<BLNK>', 'o', '<BLNK>', 'l', '<BLNK>', 'l', '<BLNK>', 'o', '<BLNK>', 'w', '<BLNK>', 'e', '<BLNK>', 'd', '<BLNK>', ' ', '<BLNK>', 'b', '<BLNK>', 'y', '<BLNK>', ' ', '<BLNK>', 'a', '<BLNK>', ' ', '<BLNK>', 'f', '<BLNK>', 'u', '<BLNK>', 'r', '<BLNK>', 't', '<BLNK>', 'h', '<BLNK>', 'e', '<BLNK>', 'r', '<BLNK>', ' ', '<BLNK>', 'p', '<BLNK>', 'e', '<BLNK>', 'r', '<BLNK>', 'i', '<BLNK>', 'o', '<BLNK>', 'd', '<BLNK>', ' ', '<BLNK>', 'o', '<BLNK>', 'f', '<BLNK>', ' ', '<BLNK>', 'c', '<BLNK>', 'o', '<BLNK>', 'n', '<BLNK>', 'f', '<BLNK>', 'u', '<BLNK>', 's', '<BLNK>', 'i', '<BLNK>', 'o', '<BLNK>', ' ', '<BLNK>', 'n', '<BLNK>', ' ', '<BLNK>', 'i', '<BLNK>', 'n', '<BLNK>', ' ', '<BLNK>', 'e', '<BLNK>', 'g', '<BLNK>', 'y', '<BLNK>', 'p', '<BLNK>', 't', '<BLNK>', ' ', '<BLNK>', 'a', '<BLNK>', 'n', '<BLNK>', 'd', '<BLNK>', ' ', '<BLNK>', 'i', '<BLNK>', 't', '<BLNK>', 's', '<BLNK>', ' ', '<BLNK>', 'c', '<BLNK>', 'o', '<BLNK>', 'n', '<BLNK>', 'q', '<BLNK>', 'u', '<BLNK>', 'e', '<BLNK>', 's', '<BLNK>', 't', '<BLNK>', ' ', '<BLNK>', 'b', '<BLNK>', 'y', '<BLNK>', ' ', '<BLNK>', 't', '<BLNK>', 'h', '<BLNK>', 'e', '<BLNK>', ' ', '<BLNK>', 'k', '<BLNK>', 'u', '<BLNK>', 's', '<BLNK>', 'h', '<BLNK>', 'i', '<BLNK>', 't', '<BLNK>', 'e', '<BLNK>', 's', '<BLNK>', '.', '<BLNK>']\n",
            " [!] Character '5' not found in the vocabulary. Discarding it.\n",
            "['<BLNK>', 'd', '<BLNK>', 'y', '<BLNK>', 'n', '<BLNK>', 'a', '<BLNK>', 's', '<BLNK>', 't', '<BLNK>', 'y', '<BLNK>', ' ', '<BLNK>', 'i', '<BLNK>', 'n', '<BLNK>', ' ', '<BLNK>', 'e', '<BLNK>', 'g', '<BLNK>', 'y', '<BLNK>', 'p', '<BLNK>', 't', '<BLNK>', ',', '<BLNK>', ' ', '<BLNK>', 'a', '<BLNK>', 'b', '<BLNK>', 'o', '<BLNK>', 'u', '<BLNK>', 't', '<BLNK>', ' ', '<BLNK>', '9', '<BLNK>', '5', '<BLNK>', '0', '<BLNK>', ' ', '<BLNK>', 'b', '<BLNK>', '.', '<BLNK>', 'c', '<BLNK>', '.', '<BLNK>', ' ', '<BLNK>', 't', '<BLNK>', 'h', '<BLNK>', 'e', '<BLNK>', ' ', '<BLNK>', 'd', '<BLNK>', 'y', '<BLNK>', 'n', '<BLNK>', 'a', '<BLNK>', 's', '<BLNK>', 't', '<BLNK>', ' ', '<BLNK>', 'y', '<BLNK>', ' ', '<BLNK>', 'l', '<BLNK>', 'a', '<BLNK>', 's', '<BLNK>', 't', '<BLNK>', 'e', '<BLNK>', 'd', '<BLNK>', ' ', '<BLNK>', 'f', '<BLNK>', 'o', '<BLNK>', 'r', '<BLNK>', ' ', '<BLNK>', 't', '<BLNK>', 'w', '<BLNK>', 'o', '<BLNK>', ' ', '<BLNK>', 'c', '<BLNK>', 'e', '<BLNK>', 'n', '<BLNK>', 't', '<BLNK>', 'u', '<BLNK>', 'r', '<BLNK>', 'i', '<BLNK>', 'e', '<BLNK>', 's', '<BLNK>', ' ', '<BLNK>', 'f', '<BLNK>', 'o', '<BLNK>', 'l', '<BLNK>', 'l', '<BLNK>', 'o', '<BLNK>', 'w', '<BLNK>', 'e', '<BLNK>', 'd', '<BLNK>', ' ', '<BLNK>', 'b', '<BLNK>', 'y', '<BLNK>', ' ', '<BLNK>', 'a', '<BLNK>', ' ', '<BLNK>', 'f', '<BLNK>', 'u', '<BLNK>', 'r', '<BLNK>', 't', '<BLNK>', 'h', '<BLNK>', 'e', '<BLNK>', 'r', '<BLNK>', ' ', '<BLNK>', 'p', '<BLNK>', 'e', '<BLNK>', 'r', '<BLNK>', 'i', '<BLNK>', 'o', '<BLNK>', 'd', '<BLNK>', ' ', '<BLNK>', 'o', '<BLNK>', 'f', '<BLNK>', ' ', '<BLNK>', 'c', '<BLNK>', 'o', '<BLNK>', 'n', '<BLNK>', 'f', '<BLNK>', 'u', '<BLNK>', 's', '<BLNK>', 'i', '<BLNK>', 'o', '<BLNK>', ' ', '<BLNK>', 'n', '<BLNK>', ' ', '<BLNK>', 'i', '<BLNK>', 'n', '<BLNK>', ' ', '<BLNK>', 'e', '<BLNK>', 'g', '<BLNK>', 'y', '<BLNK>', 'p', '<BLNK>', 't', '<BLNK>', ' ', '<BLNK>', 'a', '<BLNK>', 'n', '<BLNK>', 'd', '<BLNK>', ' ', '<BLNK>', 'i', '<BLNK>', 't', '<BLNK>', 's', '<BLNK>', ' ', '<BLNK>', 'c', '<BLNK>', 'o', '<BLNK>', 'n', '<BLNK>', 'q', '<BLNK>', 'u', '<BLNK>', 'e', '<BLNK>', 's', '<BLNK>', 't', '<BLNK>', ' ', '<BLNK>', 'b', '<BLNK>', 'y', '<BLNK>', ' ', '<BLNK>', 't', '<BLNK>', 'h', '<BLNK>', 'e', '<BLNK>', ' ', '<BLNK>', 'k', '<BLNK>', 'u', '<BLNK>', 's', '<BLNK>', 'h', '<BLNK>', 'i', '<BLNK>', 't', '<BLNK>', 'e', '<BLNK>', 's', '<BLNK>', '.', '<BLNK>']\n",
            " [!] Character '0' not found in the vocabulary. Discarding it.\n",
            "['<BLNK>', 'c', '<BLNK>', 'y', '<BLNK>', 'r', '<BLNK>', 'e', '<BLNK>', 'n', '<BLNK>', 'a', '<BLNK>', 'i', '<BLNK>', 'c', '<BLNK>', 'a', '<BLNK>', ' ', '<BLNK>', 't', '<BLNK>', 'o', '<BLNK>', 'w', '<BLNK>', 'a', '<BLNK>', 'r', '<BLNK>', 'd', '<BLNK>', 's', '<BLNK>', ' ', '<BLNK>', 't', '<BLNK>', 'h', '<BLNK>', 'e', '<BLNK>', ' ', '<BLNK>', 'e', '<BLNK>', 'n', '<BLNK>', 'd', '<BLNK>', ' ', '<BLNK>', 'o', '<BLNK>', 'f', '<BLNK>', ' ', '<BLNK>', 't', '<BLNK>', 'h', '<BLNK>', 'e', '<BLNK>', ' ', '<BLNK>', '6', '<BLNK>', 't', '<BLNK>', 'h', '<BLNK>', ' ', '<BLNK>', 'c', '<BLNK>', 'e', '<BLNK>', 'n', '<BLNK>', 't', '<BLNK>', 'u', '<BLNK>', 'r', '<BLNK>', ' ', '<BLNK>', 'y', '<BLNK>', '.', '<BLNK>']\n",
            " [!] Character '6' not found in the vocabulary. Discarding it.\n",
            "['<BLNK>', 'm', '<BLNK>', 'e', '<BLNK>', 'a', '<BLNK>', 'n', '<BLNK>', 'w', '<BLNK>', 'h', '<BLNK>', 'i', '<BLNK>', 'l', '<BLNK>', 'e', '<BLNK>', ' ', '<BLNK>', 'i', '<BLNK>', 'n', '<BLNK>', ' ', '<BLNK>', 't', '<BLNK>', 'u', '<BLNK>', 'n', '<BLNK>', 'i', '<BLNK>', 's', '<BLNK>', 'i', '<BLNK>', 'a', '<BLNK>', ' ', '<BLNK>', 't', '<BLNK>', 'h', '<BLNK>', 'e', '<BLNK>', ' ', '<BLNK>', 's', '<BLNK>', 'e', '<BLNK>', 'a', '<BLNK>', ' ', '<BLNK>', 't', '<BLNK>', 'r', '<BLNK>', 'a', '<BLNK>', 'd', '<BLNK>', 'i', '<BLNK>', 'n', '<BLNK>', 'g', '<BLNK>', ' ', '<BLNK>', 's', '<BLNK>', 'e', '<BLNK>', 'm', '<BLNK>', 'i', '<BLNK>', 't', '<BLNK>', 'i', '<BLNK>', 'c', '<BLNK>', ' ', '<BLNK>', 'p', '<BLNK>', 'h', '<BLNK>', 'o', '<BLNK>', 'e', '<BLNK>', 'n', '<BLNK>', 'i', '<BLNK>', 'c', '<BLNK>', 'i', '<BLNK>', 'a', '<BLNK>', 'n', '<BLNK>', 's', '<BLNK>', ' ', '<BLNK>', 'f', '<BLNK>', 'r', '<BLNK>', 'o', '<BLNK>', 'm', '<BLNK>', ' ', '<BLNK>', 't', '<BLNK>', 'y', '<BLNK>', 'r', '<BLNK>', 'e', '<BLNK>', ' ', '<BLNK>', 'i', '<BLNK>', 'n', '<BLNK>', ' ', '<BLNK>', 'l', '<BLNK>', 'e', '<BLNK>', 'b', '<BLNK>', 'a', '<BLNK>', 'n', '<BLNK>', 'o', '<BLNK>', 'n', '<BLNK>', ' ', '<BLNK>', 'h', '<BLNK>', 'a', '<BLNK>', 'd', '<BLNK>', ' ', '<BLNK>', 'f', '<BLNK>', 'o', '<BLNK>', 'u', '<BLNK>', 'n', '<BLNK>', 'd', '<BLNK>', 'e', '<BLNK>', 'd', '<BLNK>', ' ', '<BLNK>', 't', '<BLNK>', 'h', '<BLNK>', 'e', '<BLNK>', ' ', '<BLNK>', 'c', '<BLNK>', 'o', '<BLNK>', 'l', '<BLNK>', 'o', '<BLNK>', 'n', '<BLNK>', 'y', '<BLNK>', ' ', '<BLNK>', 'o', '<BLNK>', 'f', '<BLNK>', ' ', '<BLNK>', 'c', '<BLNK>', 'a', '<BLNK>', 'r', '<BLNK>', 't', '<BLNK>', 'h', '<BLNK>', 'a', '<BLNK>', 'g', '<BLNK>', 'e', '<BLNK>', ' ', '<BLNK>', 'a', '<BLNK>', 'b', '<BLNK>', 'o', '<BLNK>', 'u', '<BLNK>', 't', '<BLNK>', ' ', '<BLNK>', '8', '<BLNK>', '0', '<BLNK>', '0', '<BLNK>', ' ', '<BLNK>', 'b', '<BLNK>', '.', '<BLNK>', 'c', '<BLNK>', '.', '<BLNK>', ' ', '<BLNK>', 'n', '<BLNK>', 'e', '<BLNK>', 'a', '<BLNK>', 'r', '<BLNK>', ' ', '<BLNK>', 't', '<BLNK>', 'h', '<BLNK>', 'e', '<BLNK>', ' ', '<BLNK>', 'p', '<BLNK>', 'r', '<BLNK>', 'e', '<BLNK>', 's', '<BLNK>', 'e', '<BLNK>', 'n', '<BLNK>', 't', '<BLNK>', ' ', '<BLNK>', 'd', '<BLNK>', 'a', '<BLNK>', 'y', '<BLNK>', ' ', '<BLNK>', 'c', '<BLNK>', 'i', '<BLNK>', 't', '<BLNK>', 'y', '<BLNK>', ' ', '<BLNK>', 'o', '<BLNK>', 'f', '<BLNK>', ' ', '<BLNK>', 't', '<BLNK>', 'u', '<BLNK>', 'n', '<BLNK>', 'i', '<BLNK>', 's', '<BLNK>', '.', '<BLNK>']\n",
            " [!] Character '8' not found in the vocabulary. Discarding it.\n",
            "['<BLNK>', 't', '<BLNK>', 'w', '<BLNK>', 'o', '<BLNK>', ' ', '<BLNK>', 'l', '<BLNK>', 'o', '<BLNK>', 'n', '<BLNK>', 'g', '<BLNK>', ' ', '<BLNK>', 'w', '<BLNK>', 'a', '<BLNK>', 'r', '<BLNK>', 's', '<BLNK>', ' ', '<BLNK>', 'b', '<BLNK>', 'e', '<BLNK>', 't', '<BLNK>', 'w', '<BLNK>', 'e', '<BLNK>', 'e', '<BLNK>', 'n', '<BLNK>', ' ', '<BLNK>', 'r', '<BLNK>', 'o', '<BLNK>', 'm', '<BLNK>', 'e', '<BLNK>', ' ', '<BLNK>', 'a', '<BLNK>', 'n', '<BLNK>', 'd', '<BLNK>', ' ', '<BLNK>', 'c', '<BLNK>', 'a', '<BLNK>', 'r', '<BLNK>', 't', '<BLNK>', 'h', '<BLNK>', 'a', '<BLNK>', 'g', '<BLNK>', 'e', '<BLNK>', ' ', '<BLNK>', 'e', '<BLNK>', 'n', '<BLNK>', 's', '<BLNK>', 'u', '<BLNK>', 'e', '<BLNK>', 'd', '<BLNK>', ' ', '<BLNK>', ',', '<BLNK>', ' ', '<BLNK>', 'f', '<BLNK>', 'r', '<BLNK>', 'o', '<BLNK>', 'm', '<BLNK>', ' ', '<BLNK>', '2', '<BLNK>', '6', '<BLNK>', '4', '<BLNK>', ' ', '<BLNK>', 't', '<BLNK>', 'o', '<BLNK>', ' ', '<BLNK>', '2', '<BLNK>', '4', '<BLNK>', '1', '<BLNK>', ' ', '<BLNK>', 'b', '<BLNK>', '.', '<BLNK>', 'c', '<BLNK>', '.', '<BLNK>', ' ', '<BLNK>', 'a', '<BLNK>', 'n', '<BLNK>', 'd', '<BLNK>', ' ', '<BLNK>', '2', '<BLNK>', '1', '<BLNK>', '9', '<BLNK>', ' ', '<BLNK>', 't', '<BLNK>', 'o', '<BLNK>', ' ', '<BLNK>', '2', '<BLNK>', '0', '<BLNK>', '1', '<BLNK>', ' ', '<BLNK>', 'k', '<BLNK>', 'n', '<BLNK>', 'o', '<BLNK>', 'w', '<BLNK>', 'n', '<BLNK>', ' ', '<BLNK>', 'a', '<BLNK>', 's', '<BLNK>', ' ', '<BLNK>', 't', '<BLNK>', 'h', '<BLNK>', 'e', '<BLNK>', ' ', '<BLNK>', 'p', '<BLNK>', 'u', '<BLNK>', 'n', '<BLNK>', 'i', '<BLNK>', 'c', '<BLNK>', ' ', '<BLNK>', 'w', '<BLNK>', 'a', '<BLNK>', 'r', '<BLNK>', 's', '<BLNK>', '.', '<BLNK>']\n",
            " [!] Character '2' not found in the vocabulary. Discarding it.\n",
            "['<BLNK>', 't', '<BLNK>', 'w', '<BLNK>', 'o', '<BLNK>', ' ', '<BLNK>', 'l', '<BLNK>', 'o', '<BLNK>', 'n', '<BLNK>', 'g', '<BLNK>', ' ', '<BLNK>', 'w', '<BLNK>', 'a', '<BLNK>', 'r', '<BLNK>', 's', '<BLNK>', ' ', '<BLNK>', 'b', '<BLNK>', 'e', '<BLNK>', 't', '<BLNK>', 'w', '<BLNK>', 'e', '<BLNK>', 'e', '<BLNK>', 'n', '<BLNK>', ' ', '<BLNK>', 'r', '<BLNK>', 'o', '<BLNK>', 'm', '<BLNK>', 'e', '<BLNK>', ' ', '<BLNK>', 'a', '<BLNK>', 'n', '<BLNK>', 'd', '<BLNK>', ' ', '<BLNK>', 'c', '<BLNK>', 'a', '<BLNK>', 'r', '<BLNK>', 't', '<BLNK>', 'h', '<BLNK>', 'a', '<BLNK>', 'g', '<BLNK>', 'e', '<BLNK>', ' ', '<BLNK>', 'e', '<BLNK>', 'n', '<BLNK>', 's', '<BLNK>', 'u', '<BLNK>', 'e', '<BLNK>', 'd', '<BLNK>', ' ', '<BLNK>', ',', '<BLNK>', ' ', '<BLNK>', 'f', '<BLNK>', 'r', '<BLNK>', 'o', '<BLNK>', 'm', '<BLNK>', ' ', '<BLNK>', '2', '<BLNK>', '6', '<BLNK>', '4', '<BLNK>', ' ', '<BLNK>', 't', '<BLNK>', 'o', '<BLNK>', ' ', '<BLNK>', '2', '<BLNK>', '4', '<BLNK>', '1', '<BLNK>', ' ', '<BLNK>', 'b', '<BLNK>', '.', '<BLNK>', 'c', '<BLNK>', '.', '<BLNK>', ' ', '<BLNK>', 'a', '<BLNK>', 'n', '<BLNK>', 'd', '<BLNK>', ' ', '<BLNK>', '2', '<BLNK>', '1', '<BLNK>', '9', '<BLNK>', ' ', '<BLNK>', 't', '<BLNK>', 'o', '<BLNK>', ' ', '<BLNK>', '2', '<BLNK>', '0', '<BLNK>', '1', '<BLNK>', ' ', '<BLNK>', 'k', '<BLNK>', 'n', '<BLNK>', 'o', '<BLNK>', 'w', '<BLNK>', 'n', '<BLNK>', ' ', '<BLNK>', 'a', '<BLNK>', 's', '<BLNK>', ' ', '<BLNK>', 't', '<BLNK>', 'h', '<BLNK>', 'e', '<BLNK>', ' ', '<BLNK>', 'p', '<BLNK>', 'u', '<BLNK>', 'n', '<BLNK>', 'i', '<BLNK>', 'c', '<BLNK>', ' ', '<BLNK>', 'w', '<BLNK>', 'a', '<BLNK>', 'r', '<BLNK>', 's', '<BLNK>', '.', '<BLNK>']\n",
            " [!] Character '4' not found in the vocabulary. Discarding it.\n",
            " > Processing time: 72.10272336006165\n",
            " > Real-time factor: 0.3059270527738671\n"
          ]
        }
      ]
    },
    {
      "cell_type": "code",
      "source": [
        "french_doc = \"books/afrique_dans_le_monde.pdf\"\n",
        "reader = PdfReader(french_doc)\n",
        "\n",
        "page = reader.pages[11]\n",
        "french_sample = page.extract_text()\n",
        "print(french_sample)"
      ],
      "metadata": {
        "colab": {
          "base_uri": "https://localhost:8080/"
        },
        "id": "oKm-e_FS0yji",
        "outputId": "912239d4-1e19-48ca-f431-a98471b5ed56"
      },
      "execution_count": 37,
      "outputs": [
        {
          "output_type": "stream",
          "name": "stdout",
          "text": [
            "de maintien de la paix » à la suite du fiasco somalien de 1993 et de la tragédie rwan-\n",
            "daise de 1994. Néanmoins, ce désengagement apparent ne doit pas faire illusion.Les chancelleries occidentales n’ont pas renoncé à peser sur le cours des événements.Simplement, elles agissent par le truchement d’opérateurs privés – des entreprisesou des organisations non gouvernementales – en particulier dans les domaines de\n",
            "la diplomatie, de l’assistance technique, de l’aide humanitaire, de la vérification doua-\n",
            "nière et même de la Défense\n",
            "29. \n",
            "Par ailleurs, un nombre croissant d’acteurs privés étrangers se sont implantés\n",
            "en Afrique pour des raisons strictement lucratives et sont devenus des partenairesessentiels des stratégies d’extraversion conduites par les détenteurs autochtones dupouvoir, tout en se tenant à l’écart de la sphère publique, ou même de la légalité.La nébuleuse des sociétés de sécurité, les pilotes et les mercenaires originaires dela CEI, les militaires cubains de retour au Congo-Brazzaville et en Angola, les mafiasd’Europe orientale, d’Asie du Sud, d’Amérique latine ou du Maroc qui prospèrenten Afrique australe, les mar chands et les entr epreneurs indo-pakistanais, chinois\n",
            "ou malaisiens qui ont su capter une par t du commer ce africain avec l’Eur ope, nous\n",
            "disent bien que le sous-continent n’est pas plus qu’hier « replié sur lui-même »,\n",
            "comme le veut le poncif hegélien. Par exemple il s’est imposé depuis une quinzaine\n",
            "d’années dans l’une des filièr es les plus rémunératrices et les plus risquées du com -\n",
            "merce mondial, celle des nar cotiques : il est devenu le pr emier pr oducteur mon-\n",
            "dial de cannabis grâce à la République sud-africaine, au Lesotho et au Swaziland,\n",
            "et contrôle une par t décisive de l’appr ovisionnement du mar ché nor d-américain\n",
            "de l’hér oïne par l’inter médiair e de réseaux ibo du Nigeria.\n",
            "L’Afrique est donc à sa manièr e par tie pr enante de la globalisation. Les événe-\n",
            "ments qui paraissent révélateurs de sa prétendue « déconnexion » ne font que le\n",
            "confir mer. Ainsi, quelques-uns des conflits les plus sanglants qui l’endeuillent et\n",
            "sont inévitablement interprétés comme autant de manifestations de sa « primiti -\n",
            "vité» sont en réalité indissociables de flux économiques mondiaux, mais également\n",
            "de pratiques cultur elles « globales », ainsi que nous l’avons déjà relevé. De même,\n",
            "les maladies qui frappent l’Afrique et que l’on érige en icônes de sa descente aux\n",
            "enfers du système international sont des expressions tragiques de sa « globalisa-tion », comme le fut la peste en Europe : introduite par les bateaux rapatriant les\n",
            "soldats mobilisés lors de la Première Guerre mondiale, la grippe espagnole tua de\n",
            "1,5 à 2 millions de personnes en 1918-1919 ; dans les années soixante-dix, lestransports aériens firent franchir au choléra le désert et l’océan qui en avaient jus-qu’alors préservé le Sahel et le Golfe de Guinée ; et l’Afrique est le continent leplus touché par l’affection la plus « moderne » qui soit, le sida.\n",
            "On peut même se demander s’il n’y a pas une forte affinité élective entre les\n",
            "logiques de la « réinvention de la différence », propres à la globalisation, et leslogiques d’appropriation et d’instrumentalisation qui caractérisent les stratégies108— Critique inter nationale n°5 - automne 1999 \n"
          ]
        }
      ]
    },
    {
      "cell_type": "code",
      "source": [
        "tts.tts_to_file(text=french_sample, speaker=tts.speakers[0], language=tts.languages[1], file_path=\"french_version.mp3\")"
      ],
      "metadata": {
        "id": "IJYPuWzq06og"
      },
      "execution_count": null,
      "outputs": []
    },
    {
      "cell_type": "code",
      "source": [
        "def read_book_text(book):\n",
        "\n",
        "  with open(book, 'rb') as book_file:\n",
        "    \n",
        "      # Initialize a PDF object\n",
        "      pdf = PdfReader(book_file)\n",
        "\n",
        "      all_text = []\n",
        "\n",
        "      # Iterate over all the pages\n",
        "      for page in range(pdf.getNumPages()):\n",
        "          # Extract the text from the page\n",
        "          page_text = pdf.getPage(page).extractText()\n",
        "\n",
        "          # add the content of the page\n",
        "          all_text.append(page_text)\n",
        "\n",
        "  return \"\\n\".join(all_text)"
      ],
      "metadata": {
        "id": "MPPu-TG31VzC"
      },
      "execution_count": null,
      "outputs": []
    },
    {
      "cell_type": "code",
      "source": [
        "text = read_book_text(french_doc)\n",
        "tts.tts_to_file(text=text, speaker=tts.speakers[0], language=tts.languages[1], file_path=\"french_version.mp3\")"
      ],
      "metadata": {
        "id": "PtLBW65h1rIe"
      },
      "execution_count": null,
      "outputs": []
    }
  ]
}
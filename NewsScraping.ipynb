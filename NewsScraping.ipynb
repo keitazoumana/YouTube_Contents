{
  "nbformat": 4,
  "nbformat_minor": 0,
  "metadata": {
    "colab": {
      "provenance": []
    },
    "kernelspec": {
      "name": "python3",
      "display_name": "Python 3"
    },
    "language_info": {
      "name": "python"
    }
  },
  "cells": [
    {
      "cell_type": "code",
      "execution_count": 2,
      "metadata": {
        "id": "n-twEwaIp6oJ"
      },
      "outputs": [],
      "source": [
        "!pip3 -qqq install newspaper3k"
      ]
    },
    {
      "cell_type": "code",
      "source": [
        "from newspaper import Article"
      ],
      "metadata": {
        "id": "pNBVFWw-rG2a"
      },
      "execution_count": 3,
      "outputs": []
    },
    {
      "cell_type": "code",
      "source": [
        "article_URL = \"https://www.cnn.com/2022/11/17/media/twitter-exodus-reliable-sources/index.html\""
      ],
      "metadata": {
        "id": "uR8_2EvzrycC"
      },
      "execution_count": 4,
      "outputs": []
    },
    {
      "cell_type": "code",
      "source": [
        "cnn_article = Article(article_URL)"
      ],
      "metadata": {
        "id": "kyeZkFssr5wB"
      },
      "execution_count": 5,
      "outputs": []
    },
    {
      "cell_type": "code",
      "source": [
        "cnn_article.download()"
      ],
      "metadata": {
        "id": "ZWP-iOSir_Z_"
      },
      "execution_count": 6,
      "outputs": []
    },
    {
      "cell_type": "code",
      "source": [
        "cnn_article.parse()"
      ],
      "metadata": {
        "id": "5uS6v1NPsDUD"
      },
      "execution_count": 8,
      "outputs": []
    },
    {
      "cell_type": "code",
      "source": [
        "cnn_article.authors"
      ],
      "metadata": {
        "colab": {
          "base_uri": "https://localhost:8080/"
        },
        "id": "eLR7kedtsKd9",
        "outputId": "a387c7ae-f869-40ae-808e-d9fb04e656ad"
      },
      "execution_count": 9,
      "outputs": [
        {
          "output_type": "execute_result",
          "data": {
            "text/plain": [
              "['Oliver Darcy']"
            ]
          },
          "metadata": {},
          "execution_count": 9
        }
      ]
    },
    {
      "cell_type": "code",
      "source": [
        "cnn_article.publish_date"
      ],
      "metadata": {
        "colab": {
          "base_uri": "https://localhost:8080/"
        },
        "id": "kdKQpNItsT-b",
        "outputId": "57a572de-4187-40c8-87e9-acf68d108da3"
      },
      "execution_count": 10,
      "outputs": [
        {
          "output_type": "execute_result",
          "data": {
            "text/plain": [
              "datetime.datetime(2022, 11, 17, 0, 0)"
            ]
          },
          "metadata": {},
          "execution_count": 10
        }
      ]
    },
    {
      "cell_type": "code",
      "source": [
        "cnn_article.title"
      ],
      "metadata": {
        "colab": {
          "base_uri": "https://localhost:8080/",
          "height": 36
        },
        "id": "D9u9dBmisaus",
        "outputId": "d304d410-e565-4c9b-a457-d38dec5d68b4"
      },
      "execution_count": 11,
      "outputs": [
        {
          "output_type": "execute_result",
          "data": {
            "text/plain": [
              "'Inside Twitter as ‘mass exodus’ of staffers throws platform’s future into uncertainty'"
            ],
            "application/vnd.google.colaboratory.intrinsic+json": {
              "type": "string"
            }
          },
          "metadata": {},
          "execution_count": 11
        }
      ]
    },
    {
      "cell_type": "code",
      "source": [
        "print(cnn_article.text)"
      ],
      "metadata": {
        "colab": {
          "base_uri": "https://localhost:8080/"
        },
        "id": "i_saYw0ysg4J",
        "outputId": "88cbc989-d3a4-4887-fe05-3c410d6b96b8"
      },
      "execution_count": 13,
      "outputs": [
        {
          "output_type": "stream",
          "name": "stdout",
          "text": [
            "New York CNN Business —\n",
            "\n",
            "Death is in the air on Twitter.\n",
            "\n",
            "On the platform Thursday evening, where #RIPTwitter was the top trend worldwide, users wrote what they feared might be their last posts, offering apprehensive goodbyes and listing the other (more stable) social media platforms where they can still be found.\n",
            "\n",
            "They were reacting to the dire news emanating from inside Twitter. Scores of remaining employees at the social media company on Thursday appeared to reject owner Elon Musk’s ultimatum to work “extremely hardcore,” throwing the communications platform into utter disarray and raising serious questions about how much longer it will survive.\n",
            "\n",
            "A version of this article first appeared in the “Reliable Sources” newsletter. Sign up for the daily digest chronicling the evolving media landscape here.\n",
            "\n",
            "Inside the company’s Slack, a mass resignation effectively occurred after Musk’s 5pm deadline for employees to arrive at a decision passed. Hundreds of staffers appear to have called it quits, accepting Musk’s offer to exit in exchange for three months of severance.\n",
            "\n",
            "Employees flooded the “#social-watercooler” channel with the salute emoji, indicating that they had chosen not to sign Musk’s pledge. A similar series of events unfolded in the Slack channel earlier this month as Musk eliminated roughly 50% of the company’s then 7,500-person workforce.\n",
            "\n",
            "A former Twitter executive, who recently exited the company, described the situation as a “mass exodus.” Asked about the situation, the former executive said, “Elon is finding out that he can’t bully top senior talent. They have lots of options and won’t put up with his antics.”\n",
            "\n",
            "“They will struggle just to keep the lights on,” the former executive added.\n",
            "\n",
            "That assessment was universally shared by the other half dozen current and former employees on Thursday. It was already bad enough after Musk executed mass layoffs at the company earlier this month. So bad that Twitter asked some of the people it had let go to come back just days later. The state-of-play has only become more dire since then.\n",
            "\n",
            "In fact, Twitter management was in panic mode hours before the deadline passed, people familiar with the matter said, explaining that senior leaders were “scrambling” to convince talent to stay at the company.\n",
            "\n",
            "Musk himself seemed to finally realize the grim state of affairs, sending an all-staff email relaxing his previously uncompromising anti-remote work position. “Regarding remote work, all that is required for approval is that your manager takes responsibility for ensuring that you are making an excellent contribution,” Musk said in the email.\n",
            "\n",
            "It didn’t appear to do much good.\n",
            "\n",
            "Two employees who had decided to reject Musk’s ultimatum on Thursday were quite clear in why they were doing so. “I don’t want to stick around to build a product that’s being poisoned from the inside and out,” one said, adding later that he felt good about making a decision “in line with what I stand for.”\n",
            "\n",
            "A recently laid off employee who remains in touch with former coworkers said, “People don’t want to sacrifice their mental health and family lives to make the richest man in the world richer.”\n",
            "\n",
            "And Twitter seemed to grasp the mess on its hands Thursday evening, sending an email to staff notifying them it has once again shuttered all of its offices and suspended employee badge access, presumably to protect its systems and data.\n",
            "\n",
            "Twitter’s already decimated communications department didn’t respond to requests for comment. But Musk nodded to the situation in a tweet.\n",
            "\n",
            "“How do you make a small fortune in social media?” Musk asked. “Start out with a large one.”\n"
          ]
        }
      ]
    },
    {
      "cell_type": "code",
      "source": [
        "import nltk\n",
        "nltk.download('punkt')"
      ],
      "metadata": {
        "colab": {
          "base_uri": "https://localhost:8080/"
        },
        "id": "JqF79a_2s-Ik",
        "outputId": "661eee77-a7cc-484e-f3d5-2fbd76dd1b2d"
      },
      "execution_count": 15,
      "outputs": [
        {
          "output_type": "stream",
          "name": "stderr",
          "text": [
            "[nltk_data] Downloading package punkt to /root/nltk_data...\n",
            "[nltk_data]   Unzipping tokenizers/punkt.zip.\n"
          ]
        },
        {
          "output_type": "execute_result",
          "data": {
            "text/plain": [
              "True"
            ]
          },
          "metadata": {},
          "execution_count": 15
        }
      ]
    },
    {
      "cell_type": "code",
      "source": [
        "cnn_article.nlp()"
      ],
      "metadata": {
        "id": "IUImqFp1soSF"
      },
      "execution_count": 16,
      "outputs": []
    },
    {
      "cell_type": "code",
      "source": [
        "cnn_article.keywords"
      ],
      "metadata": {
        "colab": {
          "base_uri": "https://localhost:8080/"
        },
        "id": "JsxjUIlns6h_",
        "outputId": "0b3e0827-13c4-44b9-c34d-c1c695e40766"
      },
      "execution_count": 17,
      "outputs": [
        {
          "output_type": "execute_result",
          "data": {
            "text/plain": [
              "['media',\n",
              " 'mass',\n",
              " 'work',\n",
              " 'executive',\n",
              " 'staffers',\n",
              " 'platforms',\n",
              " 'musks',\n",
              " 'employees',\n",
              " 'uncertainty',\n",
              " 'musk',\n",
              " 'situation',\n",
              " 'inside',\n",
              " 'throws',\n",
              " 'social',\n",
              " 'exodus',\n",
              " 'twitter',\n",
              " 'future']"
            ]
          },
          "metadata": {},
          "execution_count": 17
        }
      ]
    },
    {
      "cell_type": "code",
      "source": [
        "cnn_article.summary"
      ],
      "metadata": {
        "colab": {
          "base_uri": "https://localhost:8080/",
          "height": 157
        },
        "id": "yF9nEYQPtGFS",
        "outputId": "165151b9-38b4-4d2f-bf3b-b4f6020d55ec"
      },
      "execution_count": 19,
      "outputs": [
        {
          "output_type": "execute_result",
          "data": {
            "text/plain": [
              "'Inside the company’s Slack, a mass resignation effectively occurred after Musk’s 5pm deadline for employees to arrive at a decision passed.\\nHundreds of staffers appear to have called it quits, accepting Musk’s offer to exit in exchange for three months of severance.\\nA former Twitter executive, who recently exited the company, described the situation as a “mass exodus.” Asked about the situation, the former executive said, “Elon is finding out that he can’t bully top senior talent.\\nIt was already bad enough after Musk executed mass layoffs at the company earlier this month.\\n“How do you make a small fortune in social media?” Musk asked.'"
            ],
            "application/vnd.google.colaboratory.intrinsic+json": {
              "type": "string"
            }
          },
          "metadata": {},
          "execution_count": 19
        }
      ]
    },
    {
      "cell_type": "code",
      "source": [],
      "metadata": {
        "id": "4zwwU8f1tNag"
      },
      "execution_count": null,
      "outputs": []
    }
  ]
}